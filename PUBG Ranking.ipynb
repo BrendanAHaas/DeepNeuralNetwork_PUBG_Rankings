{
 "cells": [
  {
   "cell_type": "markdown",
   "metadata": {},
   "source": [
    "Here we'll be exploring a data set from the video game 'Player Unknown's Battlegrounds'.  In this game up to 100 people all drop onto an island and fight to the death until a single player remains.  We have a data set containing information such as how much damage a player did to opponents, how far a player traveled on the island, and how much a player healed himself.\n",
    "\n",
    "The goal of this data set is to use it to determine what the player's chance of winning the match is based upon these stats.  If a player almost never moves and hides in a house, is he more likely to win than a player that travels extensively? Is a player who picks up a single weapon and sticks with it more likely to win than a player who frequently changes his weapon of choice?\n",
    "\n",
    "Hopefully we can use this data set to better understand what the optimal strategy in the game is to improve our performance.  Let's learn more about the dataset."
   ]
  },
  {
   "cell_type": "code",
   "execution_count": 1,
   "metadata": {
    "scrolled": true
   },
   "outputs": [
    {
     "name": "stderr",
     "output_type": "stream",
     "text": [
      "Using TensorFlow backend.\n"
     ]
    }
   ],
   "source": [
    "import numpy as np\n",
    "import pandas as pd  \n",
    "import matplotlib as mpl\n",
    "import matplotlib.pyplot as plt\n",
    "\n",
    "from IPython.display import clear_output\n",
    "\n",
    "#Data is too large to be held in memory on my laptop, using dask to help with this\n",
    "#import dask.dataframe as dd\n",
    "\n",
    "#Useful for making pretty plots\n",
    "import seaborn as sns\n",
    "\n",
    "#Needed to normalize a uniform distribution (and vice versa)\n",
    "from scipy.stats import norm\n",
    "\n",
    "#For scaling our data and finding anomalies\n",
    "from sklearn.preprocessing import RobustScaler\n",
    "from sklearn.ensemble import IsolationForest\n",
    "from sklearn.model_selection import train_test_split\n",
    "\n",
    "#Keras is the backbone of our neural network algorithm\n",
    "import keras\n",
    "from keras.callbacks import ModelCheckpoint\n",
    "from keras.models import Sequential\n",
    "from keras.layers import Dense,Dropout,Activation\n",
    "from keras.layers.normalization import BatchNormalization\n",
    "from keras.optimizers import Adam\n",
    "\n",
    "#Load data using dask\n",
    "#TrainingSet = dd.read_csv('data/train.csv', engine='python')\n",
    "#TestSet = dd.read_csv('data/test.csv', engine='python')\n",
    "TrainingSet = pd.read_csv('data/train.csv')\n",
    "TestSet = pd.read_csv('data/test.csv')\n",
    "#TrainingSet.head()"
   ]
  },
  {
   "cell_type": "code",
   "execution_count": 2,
   "metadata": {},
   "outputs": [
    {
     "name": "stdout",
     "output_type": "stream",
     "text": [
      "<class 'pandas.core.frame.DataFrame'>\n",
      "RangeIndex: 4357336 entries, 0 to 4357335\n",
      "Data columns (total 26 columns):\n",
      "Id                 int64\n",
      "groupId            int64\n",
      "matchId            int64\n",
      "assists            int64\n",
      "boosts             int64\n",
      "damageDealt        float64\n",
      "DBNOs              int64\n",
      "headshotKills      int64\n",
      "heals              int64\n",
      "killPlace          int64\n",
      "killPoints         int64\n",
      "kills              int64\n",
      "killStreaks        int64\n",
      "longestKill        float64\n",
      "maxPlace           int64\n",
      "numGroups          int64\n",
      "revives            int64\n",
      "rideDistance       float64\n",
      "roadKills          int64\n",
      "swimDistance       float64\n",
      "teamKills          int64\n",
      "vehicleDestroys    int64\n",
      "walkDistance       float64\n",
      "weaponsAcquired    int64\n",
      "winPoints          int64\n",
      "winPlacePerc       float64\n",
      "dtypes: float64(6), int64(20)\n",
      "memory usage: 864.3 MB\n",
      "None\n"
     ]
    },
    {
     "data": {
      "text/html": [
       "<div>\n",
       "<style scoped>\n",
       "    .dataframe tbody tr th:only-of-type {\n",
       "        vertical-align: middle;\n",
       "    }\n",
       "\n",
       "    .dataframe tbody tr th {\n",
       "        vertical-align: top;\n",
       "    }\n",
       "\n",
       "    .dataframe thead th {\n",
       "        text-align: right;\n",
       "    }\n",
       "</style>\n",
       "<table border=\"1\" class=\"dataframe\">\n",
       "  <thead>\n",
       "    <tr style=\"text-align: right;\">\n",
       "      <th></th>\n",
       "      <th>Id</th>\n",
       "      <th>groupId</th>\n",
       "      <th>matchId</th>\n",
       "      <th>assists</th>\n",
       "      <th>boosts</th>\n",
       "      <th>damageDealt</th>\n",
       "      <th>DBNOs</th>\n",
       "      <th>headshotKills</th>\n",
       "      <th>heals</th>\n",
       "      <th>killPlace</th>\n",
       "      <th>killPoints</th>\n",
       "      <th>kills</th>\n",
       "      <th>killStreaks</th>\n",
       "      <th>longestKill</th>\n",
       "      <th>maxPlace</th>\n",
       "      <th>numGroups</th>\n",
       "      <th>revives</th>\n",
       "      <th>rideDistance</th>\n",
       "      <th>roadKills</th>\n",
       "      <th>swimDistance</th>\n",
       "      <th>teamKills</th>\n",
       "      <th>vehicleDestroys</th>\n",
       "      <th>walkDistance</th>\n",
       "      <th>weaponsAcquired</th>\n",
       "      <th>winPoints</th>\n",
       "      <th>winPlacePerc</th>\n",
       "    </tr>\n",
       "  </thead>\n",
       "  <tbody>\n",
       "    <tr>\n",
       "      <th>0</th>\n",
       "      <td>0</td>\n",
       "      <td>24</td>\n",
       "      <td>0</td>\n",
       "      <td>0</td>\n",
       "      <td>5</td>\n",
       "      <td>247.30</td>\n",
       "      <td>2</td>\n",
       "      <td>0</td>\n",
       "      <td>4</td>\n",
       "      <td>17</td>\n",
       "      <td>1050</td>\n",
       "      <td>2</td>\n",
       "      <td>1</td>\n",
       "      <td>65.320</td>\n",
       "      <td>29</td>\n",
       "      <td>28</td>\n",
       "      <td>1</td>\n",
       "      <td>591.3</td>\n",
       "      <td>0</td>\n",
       "      <td>0.0</td>\n",
       "      <td>0</td>\n",
       "      <td>0</td>\n",
       "      <td>782.40</td>\n",
       "      <td>4</td>\n",
       "      <td>1458</td>\n",
       "      <td>0.8571</td>\n",
       "    </tr>\n",
       "    <tr>\n",
       "      <th>1</th>\n",
       "      <td>1</td>\n",
       "      <td>440875</td>\n",
       "      <td>1</td>\n",
       "      <td>1</td>\n",
       "      <td>0</td>\n",
       "      <td>37.65</td>\n",
       "      <td>1</td>\n",
       "      <td>1</td>\n",
       "      <td>0</td>\n",
       "      <td>45</td>\n",
       "      <td>1072</td>\n",
       "      <td>1</td>\n",
       "      <td>1</td>\n",
       "      <td>13.550</td>\n",
       "      <td>26</td>\n",
       "      <td>23</td>\n",
       "      <td>0</td>\n",
       "      <td>0.0</td>\n",
       "      <td>0</td>\n",
       "      <td>0.0</td>\n",
       "      <td>0</td>\n",
       "      <td>0</td>\n",
       "      <td>119.60</td>\n",
       "      <td>3</td>\n",
       "      <td>1511</td>\n",
       "      <td>0.0400</td>\n",
       "    </tr>\n",
       "    <tr>\n",
       "      <th>2</th>\n",
       "      <td>2</td>\n",
       "      <td>878242</td>\n",
       "      <td>2</td>\n",
       "      <td>0</td>\n",
       "      <td>1</td>\n",
       "      <td>93.73</td>\n",
       "      <td>1</td>\n",
       "      <td>0</td>\n",
       "      <td>2</td>\n",
       "      <td>54</td>\n",
       "      <td>1404</td>\n",
       "      <td>0</td>\n",
       "      <td>0</td>\n",
       "      <td>0.000</td>\n",
       "      <td>28</td>\n",
       "      <td>28</td>\n",
       "      <td>1</td>\n",
       "      <td>0.0</td>\n",
       "      <td>0</td>\n",
       "      <td>0.0</td>\n",
       "      <td>0</td>\n",
       "      <td>0</td>\n",
       "      <td>3248.00</td>\n",
       "      <td>5</td>\n",
       "      <td>1583</td>\n",
       "      <td>0.7407</td>\n",
       "    </tr>\n",
       "    <tr>\n",
       "      <th>3</th>\n",
       "      <td>3</td>\n",
       "      <td>1319841</td>\n",
       "      <td>3</td>\n",
       "      <td>0</td>\n",
       "      <td>0</td>\n",
       "      <td>95.88</td>\n",
       "      <td>0</td>\n",
       "      <td>0</td>\n",
       "      <td>0</td>\n",
       "      <td>86</td>\n",
       "      <td>1069</td>\n",
       "      <td>0</td>\n",
       "      <td>0</td>\n",
       "      <td>0.000</td>\n",
       "      <td>97</td>\n",
       "      <td>94</td>\n",
       "      <td>0</td>\n",
       "      <td>0.0</td>\n",
       "      <td>0</td>\n",
       "      <td>0.0</td>\n",
       "      <td>0</td>\n",
       "      <td>0</td>\n",
       "      <td>21.49</td>\n",
       "      <td>1</td>\n",
       "      <td>1489</td>\n",
       "      <td>0.1146</td>\n",
       "    </tr>\n",
       "    <tr>\n",
       "      <th>4</th>\n",
       "      <td>4</td>\n",
       "      <td>1757883</td>\n",
       "      <td>4</td>\n",
       "      <td>0</td>\n",
       "      <td>1</td>\n",
       "      <td>0.00</td>\n",
       "      <td>0</td>\n",
       "      <td>0</td>\n",
       "      <td>1</td>\n",
       "      <td>58</td>\n",
       "      <td>1034</td>\n",
       "      <td>0</td>\n",
       "      <td>0</td>\n",
       "      <td>0.000</td>\n",
       "      <td>47</td>\n",
       "      <td>41</td>\n",
       "      <td>0</td>\n",
       "      <td>0.0</td>\n",
       "      <td>0</td>\n",
       "      <td>0.0</td>\n",
       "      <td>0</td>\n",
       "      <td>0</td>\n",
       "      <td>640.80</td>\n",
       "      <td>4</td>\n",
       "      <td>1475</td>\n",
       "      <td>0.5217</td>\n",
       "    </tr>\n",
       "    <tr>\n",
       "      <th>5</th>\n",
       "      <td>5</td>\n",
       "      <td>2200824</td>\n",
       "      <td>5</td>\n",
       "      <td>0</td>\n",
       "      <td>2</td>\n",
       "      <td>128.10</td>\n",
       "      <td>0</td>\n",
       "      <td>0</td>\n",
       "      <td>0</td>\n",
       "      <td>25</td>\n",
       "      <td>1000</td>\n",
       "      <td>1</td>\n",
       "      <td>1</td>\n",
       "      <td>27.300</td>\n",
       "      <td>96</td>\n",
       "      <td>96</td>\n",
       "      <td>0</td>\n",
       "      <td>2221.0</td>\n",
       "      <td>0</td>\n",
       "      <td>0.0</td>\n",
       "      <td>0</td>\n",
       "      <td>0</td>\n",
       "      <td>1016.00</td>\n",
       "      <td>4</td>\n",
       "      <td>1500</td>\n",
       "      <td>0.9368</td>\n",
       "    </tr>\n",
       "    <tr>\n",
       "      <th>6</th>\n",
       "      <td>6</td>\n",
       "      <td>2568717</td>\n",
       "      <td>6</td>\n",
       "      <td>1</td>\n",
       "      <td>0</td>\n",
       "      <td>130.30</td>\n",
       "      <td>0</td>\n",
       "      <td>0</td>\n",
       "      <td>0</td>\n",
       "      <td>28</td>\n",
       "      <td>1037</td>\n",
       "      <td>1</td>\n",
       "      <td>1</td>\n",
       "      <td>5.954</td>\n",
       "      <td>44</td>\n",
       "      <td>40</td>\n",
       "      <td>0</td>\n",
       "      <td>721.7</td>\n",
       "      <td>0</td>\n",
       "      <td>0.0</td>\n",
       "      <td>0</td>\n",
       "      <td>0</td>\n",
       "      <td>280.10</td>\n",
       "      <td>3</td>\n",
       "      <td>1495</td>\n",
       "      <td>0.3721</td>\n",
       "    </tr>\n",
       "    <tr>\n",
       "      <th>7</th>\n",
       "      <td>7</td>\n",
       "      <td>2612473</td>\n",
       "      <td>7</td>\n",
       "      <td>1</td>\n",
       "      <td>1</td>\n",
       "      <td>661.80</td>\n",
       "      <td>2</td>\n",
       "      <td>3</td>\n",
       "      <td>2</td>\n",
       "      <td>3</td>\n",
       "      <td>1148</td>\n",
       "      <td>5</td>\n",
       "      <td>2</td>\n",
       "      <td>36.640</td>\n",
       "      <td>46</td>\n",
       "      <td>46</td>\n",
       "      <td>0</td>\n",
       "      <td>0.0</td>\n",
       "      <td>0</td>\n",
       "      <td>0.0</td>\n",
       "      <td>0</td>\n",
       "      <td>0</td>\n",
       "      <td>2617.00</td>\n",
       "      <td>4</td>\n",
       "      <td>1479</td>\n",
       "      <td>1.0000</td>\n",
       "    </tr>\n",
       "    <tr>\n",
       "      <th>8</th>\n",
       "      <td>8</td>\n",
       "      <td>2656377</td>\n",
       "      <td>8</td>\n",
       "      <td>0</td>\n",
       "      <td>3</td>\n",
       "      <td>94.72</td>\n",
       "      <td>0</td>\n",
       "      <td>0</td>\n",
       "      <td>5</td>\n",
       "      <td>50</td>\n",
       "      <td>1286</td>\n",
       "      <td>0</td>\n",
       "      <td>0</td>\n",
       "      <td>0.000</td>\n",
       "      <td>28</td>\n",
       "      <td>28</td>\n",
       "      <td>0</td>\n",
       "      <td>2963.0</td>\n",
       "      <td>0</td>\n",
       "      <td>28.9</td>\n",
       "      <td>0</td>\n",
       "      <td>0</td>\n",
       "      <td>3139.00</td>\n",
       "      <td>5</td>\n",
       "      <td>1528</td>\n",
       "      <td>0.7037</td>\n",
       "    </tr>\n",
       "    <tr>\n",
       "      <th>9</th>\n",
       "      <td>9</td>\n",
       "      <td>2700597</td>\n",
       "      <td>9</td>\n",
       "      <td>0</td>\n",
       "      <td>0</td>\n",
       "      <td>137.60</td>\n",
       "      <td>0</td>\n",
       "      <td>0</td>\n",
       "      <td>0</td>\n",
       "      <td>81</td>\n",
       "      <td>1000</td>\n",
       "      <td>0</td>\n",
       "      <td>0</td>\n",
       "      <td>0.000</td>\n",
       "      <td>25</td>\n",
       "      <td>23</td>\n",
       "      <td>0</td>\n",
       "      <td>0.0</td>\n",
       "      <td>0</td>\n",
       "      <td>0.0</td>\n",
       "      <td>0</td>\n",
       "      <td>0</td>\n",
       "      <td>238.70</td>\n",
       "      <td>3</td>\n",
       "      <td>1500</td>\n",
       "      <td>0.0417</td>\n",
       "    </tr>\n",
       "  </tbody>\n",
       "</table>\n",
       "</div>"
      ],
      "text/plain": [
       "   Id  groupId  matchId  assists  boosts  damageDealt  DBNOs  headshotKills  \\\n",
       "0   0       24        0        0       5       247.30      2              0   \n",
       "1   1   440875        1        1       0        37.65      1              1   \n",
       "2   2   878242        2        0       1        93.73      1              0   \n",
       "3   3  1319841        3        0       0        95.88      0              0   \n",
       "4   4  1757883        4        0       1         0.00      0              0   \n",
       "5   5  2200824        5        0       2       128.10      0              0   \n",
       "6   6  2568717        6        1       0       130.30      0              0   \n",
       "7   7  2612473        7        1       1       661.80      2              3   \n",
       "8   8  2656377        8        0       3        94.72      0              0   \n",
       "9   9  2700597        9        0       0       137.60      0              0   \n",
       "\n",
       "   heals  killPlace  killPoints  kills  killStreaks  longestKill  maxPlace  \\\n",
       "0      4         17        1050      2            1       65.320        29   \n",
       "1      0         45        1072      1            1       13.550        26   \n",
       "2      2         54        1404      0            0        0.000        28   \n",
       "3      0         86        1069      0            0        0.000        97   \n",
       "4      1         58        1034      0            0        0.000        47   \n",
       "5      0         25        1000      1            1       27.300        96   \n",
       "6      0         28        1037      1            1        5.954        44   \n",
       "7      2          3        1148      5            2       36.640        46   \n",
       "8      5         50        1286      0            0        0.000        28   \n",
       "9      0         81        1000      0            0        0.000        25   \n",
       "\n",
       "   numGroups  revives  rideDistance  roadKills  swimDistance  teamKills  \\\n",
       "0         28        1         591.3          0           0.0          0   \n",
       "1         23        0           0.0          0           0.0          0   \n",
       "2         28        1           0.0          0           0.0          0   \n",
       "3         94        0           0.0          0           0.0          0   \n",
       "4         41        0           0.0          0           0.0          0   \n",
       "5         96        0        2221.0          0           0.0          0   \n",
       "6         40        0         721.7          0           0.0          0   \n",
       "7         46        0           0.0          0           0.0          0   \n",
       "8         28        0        2963.0          0          28.9          0   \n",
       "9         23        0           0.0          0           0.0          0   \n",
       "\n",
       "   vehicleDestroys  walkDistance  weaponsAcquired  winPoints  winPlacePerc  \n",
       "0                0        782.40                4       1458        0.8571  \n",
       "1                0        119.60                3       1511        0.0400  \n",
       "2                0       3248.00                5       1583        0.7407  \n",
       "3                0         21.49                1       1489        0.1146  \n",
       "4                0        640.80                4       1475        0.5217  \n",
       "5                0       1016.00                4       1500        0.9368  \n",
       "6                0        280.10                3       1495        0.3721  \n",
       "7                0       2617.00                4       1479        1.0000  \n",
       "8                0       3139.00                5       1528        0.7037  \n",
       "9                0        238.70                3       1500        0.0417  "
      ]
     },
     "execution_count": 2,
     "metadata": {},
     "output_type": "execute_result"
    }
   ],
   "source": [
    "#Grab general info about the dataframe\n",
    "print(TrainingSet.info())\n",
    "pd.set_option('display.max_columns', 26) #We'll always view all columns in dataframe now\n",
    "TrainingSet.head(10)"
   ]
  },
  {
   "cell_type": "markdown",
   "metadata": {},
   "source": [
    "We only have numerical columns!  This will simplify some of the analysis later.\n",
    "\n",
    "Making the list of columns a bit easier to digest:"
   ]
  },
  {
   "cell_type": "code",
   "execution_count": 3,
   "metadata": {},
   "outputs": [
    {
     "name": "stdout",
     "output_type": "stream",
     "text": [
      "Training set, number of columns: 26\n",
      "Test set, number of columns    : 25\n",
      "List of training set columns: Index(['Id', 'groupId', 'matchId', 'assists', 'boosts', 'damageDealt', 'DBNOs',\n",
      "       'headshotKills', 'heals', 'killPlace', 'killPoints', 'kills',\n",
      "       'killStreaks', 'longestKill', 'maxPlace', 'numGroups', 'revives',\n",
      "       'rideDistance', 'roadKills', 'swimDistance', 'teamKills',\n",
      "       'vehicleDestroys', 'walkDistance', 'weaponsAcquired', 'winPoints',\n",
      "       'winPlacePerc'],\n",
      "      dtype='object')\n"
     ]
    }
   ],
   "source": [
    "print(\"Training set, number of columns: \" + str(len(TrainingSet.columns)))\n",
    "print(\"Test set, number of columns    : \" + str(len(TestSet.columns)))\n",
    "\n",
    "#These are slow because you have to run through the whole dataset\n",
    "#print(\"Training set, number of rows = \" + str(len(TrainingSet)))\n",
    "#print(\"Test set, number of rows =     \" + str(len(TestSet)))\n",
    "#For reference, the training set has 4357336 rows\n",
    "#For reference, the test set has 1867913 rows\n",
    "\n",
    "print(\"List of training set columns: \" + str(TrainingSet.columns))"
   ]
  },
  {
   "cell_type": "markdown",
   "metadata": {},
   "source": [
    "The test set has 1 less column than the training set, as expected.  We need to use the other variables to predict the 'winPlacePerc', a variable that ranges from 0 to 1, where 0 means the player is very unlikely to have won the game and 1 means the player almost certainly won the game.\n",
    "\n",
    "Some variables seem unlikely to be as helpful for determining winPlacePerc. 'Id', 'groupId', and 'matchId' for example tell us nothing about the performance of the player.  We can drop these from our dataframes, which should help speed up our learning algorithm later."
   ]
  },
  {
   "cell_type": "code",
   "execution_count": 4,
   "metadata": {},
   "outputs": [
    {
     "name": "stdout",
     "output_type": "stream",
     "text": [
      "Training set, number of columns: 22\n",
      "Test set, number of columns    : 21\n"
     ]
    }
   ],
   "source": [
    "#Dropping unnecessary columns.  Why we drop numGroups will be explained later\n",
    "TrainingSet = TrainingSet.drop(['Id','groupId','matchId','numGroups'], axis=1)\n",
    "TestSet = TestSet.drop(['Id','groupId','matchId','numGroups'], axis=1)\n",
    "print(\"Training set, number of columns: \" + str(len(TrainingSet.columns)))\n",
    "print(\"Test set, number of columns    : \" + str(len(TestSet.columns)))"
   ]
  },
  {
   "cell_type": "markdown",
   "metadata": {},
   "source": [
    "Let's check to see how many missing values (NaN) are present in our dataframe."
   ]
  },
  {
   "cell_type": "code",
   "execution_count": 5,
   "metadata": {},
   "outputs": [
    {
     "name": "stdout",
     "output_type": "stream",
     "text": [
      "assists            0\n",
      "boosts             0\n",
      "damageDealt        0\n",
      "DBNOs              0\n",
      "headshotKills      0\n",
      "heals              0\n",
      "killPlace          0\n",
      "killPoints         0\n",
      "kills              0\n",
      "killStreaks        0\n",
      "longestKill        0\n",
      "maxPlace           0\n",
      "revives            0\n",
      "rideDistance       0\n",
      "roadKills          0\n",
      "swimDistance       0\n",
      "teamKills          0\n",
      "vehicleDestroys    0\n",
      "walkDistance       0\n",
      "weaponsAcquired    0\n",
      "winPoints          0\n",
      "winPlacePerc       0\n",
      "dtype: int64\n",
      "assists            0\n",
      "boosts             0\n",
      "damageDealt        0\n",
      "DBNOs              0\n",
      "headshotKills      0\n",
      "heals              0\n",
      "killPlace          0\n",
      "killPoints         0\n",
      "kills              0\n",
      "killStreaks        0\n",
      "longestKill        0\n",
      "maxPlace           0\n",
      "revives            0\n",
      "rideDistance       0\n",
      "roadKills          0\n",
      "swimDistance       0\n",
      "teamKills          0\n",
      "vehicleDestroys    0\n",
      "walkDistance       0\n",
      "weaponsAcquired    0\n",
      "winPoints          0\n",
      "dtype: int64\n"
     ]
    }
   ],
   "source": [
    "print(TrainingSet.isna().sum())\n",
    "print(TestSet.isna().sum())"
   ]
  },
  {
   "cell_type": "markdown",
   "metadata": {},
   "source": [
    "Great, we also have a complete dataframe with no missing values!\n",
    "\n",
    "Quickly double checking the sample submission document against our test set:"
   ]
  },
  {
   "cell_type": "code",
   "execution_count": 6,
   "metadata": {},
   "outputs": [],
   "source": [
    "#SampleSub = pd.read_csv('data/sample_submission.csv', engine='python')\n",
    "#print(\"Test set, number of rows =      \" + str(len(TestSet)))\n",
    "#print(\"SampleSub set, number of rows = \" + str(len(SampleSub)))"
   ]
  },
  {
   "cell_type": "markdown",
   "metadata": {},
   "source": [
    "So we'll have to take our test set, calculate the final column ('winPlacePerc') and transfer those values over to our sample submission document.\n",
    "\n",
    "So now we may want to see what the distribution of 'winPlacePerc' in our dataframe looks like.  A normal distribution is ideal for most types of data analysis."
   ]
  },
  {
   "cell_type": "code",
   "execution_count": 7,
   "metadata": {},
   "outputs": [
    {
     "name": "stdout",
     "output_type": "stream",
     "text": [
      "Training set skew: 0.10382623517588761\n"
     ]
    },
    {
     "data": {
      "image/png": "[encoded data removed]",
      "text/plain": [
       "<Figure size 432x288 with 1 Axes>"
      ]
     },
     "metadata": {},
     "output_type": "display_data"
    }
   ],
   "source": [
    "sns.distplot(TrainingSet['winPlacePerc'], kde=False)\n",
    "print(\"Training set skew: \" + str(TrainingSet['winPlacePerc'].skew()))"
   ]
  },
  {
   "cell_type": "markdown",
   "metadata": {},
   "source": [
    "Our 'winPlacePerc' disribution is far from normal, and has a large spike near 0.  There also isn't much of a skew, but there also isn't much of a peak (at least as we'd expect in a normal distribution) either.\n",
    "\n",
    "Let's see how the other variables look.  But first we can combine the training and test set into one to see the full distribution of possible values."
   ]
  },
  {
   "cell_type": "code",
   "execution_count": 8,
   "metadata": {},
   "outputs": [
    {
     "data": {
      "text/plain": [
       "(6225249, 21)"
      ]
     },
     "execution_count": 8,
     "metadata": {},
     "output_type": "execute_result"
    },
    {
     "data": {
      "image/png": "[encoded data removed]",
      "text/plain": [
       "<Figure size 432x288 with 1 Axes>"
      ]
     },
     "metadata": {},
     "output_type": "display_data"
    }
   ],
   "source": [
    "Y = TrainingSet[['winPlacePerc']].copy()\n",
    "\n",
    "#In order to get more normal distribution, we need to remove the 0 and 1.0 values.  We'll bump them to 0.01 and 0.99.\n",
    "#If our 'winPlacePerc' vaules are lower or higher than these values, respectively, we'll later bump them back to 0 and 1\n",
    "mask = (Y['winPlacePerc'] == 0)\n",
    "Y.loc[mask, 'winPlacePerc'] = 0.01\n",
    "mask = (Y['winPlacePerc'] == 1)\n",
    "Y.loc[mask, 'winPlacePerc'] = 0.99\n",
    "#Now we won't have any infinity values when we apply ppx to our dataframe\n",
    "Y['winPlacePerc'] = norm.ppf(Y['winPlacePerc'])\n",
    "\n",
    "#Y = Y.apply(norm.ppf, axis=1)\n",
    "sns.distplot(Y['winPlacePerc'], kde=False)\n",
    "#new = old[['A', 'C', 'D']].copy()\n",
    "\n",
    "n_TrainingSet = TrainingSet.shape[0] #Number of Training Set examples\n",
    "n_TestSet = TestSet.shape[0] #Number of Test Set examples\n",
    "\n",
    "AllData = pd.concat((TrainingSet, TestSet), sort=True).reset_index(drop=True) #Combine the two sets\n",
    "AllData.drop(['winPlacePerc'], axis=1, inplace=True) #Drop the Y values\n",
    "AllData.shape #New shape\n",
    "#Y.head(50)"
   ]
  },
  {
   "cell_type": "markdown",
   "metadata": {},
   "source": [
    "The data is at least slightly more normal in distribution now.\n",
    "\n",
    "Let's see which variables are correlated with our winPlacePerc variable that we want to predict."
   ]
  },
  {
   "cell_type": "code",
   "execution_count": 9,
   "metadata": {},
   "outputs": [
    {
     "name": "stdout",
     "output_type": "stream",
     "text": [
      "winPlacePerc       1.000000\n",
      "walkDistance       0.811857\n",
      "boosts             0.618075\n",
      "weaponsAcquired    0.571521\n",
      "damageDealt        0.438552\n",
      "heals              0.427986\n",
      "kills              0.415350\n",
      "longestKill        0.405800\n",
      "killStreaks        0.372546\n",
      "assists            0.304642\n",
      "rideDistance       0.301220\n",
      "DBNOs              0.279475\n",
      "headshotKills      0.278705\n",
      "revives            0.251399\n",
      "winPoints          0.170407\n",
      "swimDistance       0.154889\n",
      "killPoints         0.090293\n",
      "vehicleDestroys    0.057700\n",
      "maxPlace           0.034235\n",
      "roadKills          0.028879\n",
      "teamKills         -0.006122\n",
      "killPlace         -0.708314\n",
      "Name: winPlacePerc, dtype: float64 \n",
      "\n"
     ]
    }
   ],
   "source": [
    "TrainingSetNumerics = TrainingSet.select_dtypes(include=[np.number])\n",
    "NumericCorrelations = TrainingSetNumerics.corr()\n",
    "print(NumericCorrelations['winPlacePerc'].sort_values(ascending = False),'\\n')"
   ]
  },
  {
   "cell_type": "markdown",
   "metadata": {},
   "source": [
    "winPoints is the external ranking of the player based on past performance (higher value means more wins in the past).  It's curious that past successes don't translate well into winning the current match.\n",
    "walkDistance is likely correlated with winning because you can only cover a large distance if you survive a long time. damageDealt and kills also correlate fairly well as you can only get high values in those categories if you do very well.\n",
    "\n",
    "killPlace is your ranking (relative to the other players) of how many enemies you killed.  It makes sense that this is anti-correlated with winning; if you get no kills, you likely didn't survive very long (though this may not always be the case. Someone could hide in a building until the very end).\n",
    "\n",
    "Let's see how correlated each variable is to one another."
   ]
  },
  {
   "cell_type": "code",
   "execution_count": 10,
   "metadata": {},
   "outputs": [
    {
     "data": {
      "text/plain": [
       "<matplotlib.axes._subplots.AxesSubplot at 0x25a29e06898>"
      ]
     },
     "execution_count": 10,
     "metadata": {},
     "output_type": "execute_result"
    },
    {
     "data": {
      "image/png": "[encoded data removed]",
      "text/plain": [
       "<Figure size 1080x936 with 2 Axes>"
      ]
     },
     "metadata": {},
     "output_type": "display_data"
    }
   ],
   "source": [
    "f , ax = plt.subplots(figsize = (15,13))\n",
    "plt.title('Numeric Feature Correlations', y=1, size=20)\n",
    "sns.heatmap(NumericCorrelations, square = True,  vmax=.82) #max is set to 0.82, since highest correlation value is 0.82"
   ]
  },
  {
   "cell_type": "markdown",
   "metadata": {},
   "source": [
    "maxPlace and numGroups are highly correlated.  NumGroups is the 'Number of groups we have data for in the match' and maxPlace is 'Worst placement we have data for in the match. This may not match with numGroups, as sometimes the data skips over placements.'  maxPlace is always greater than or equal to NumGroups in our data, so it would appear that some groups' data is missing from matches.  \n",
    "\n",
    "Note also that winPlacePerc is based off of the maxPlace value rather than the numGroups value.  So if the game had 40 groups, but only recorded data for 38 of them, we'd have maxPlace = 40 and numGroups = 38.  And the group placed at 40th (last place) would have a winPlacePerc of 0, rather than the group that got 38th.  \n",
    "\n",
    "For these reasons we dropped the numGroups variable earlier (along the Id variables).\n",
    "\n",
    "This data is also likely to contain extreme outliers.  Players are often silly and not aiming to win.  Someone may drive a car for 30 straight minutes instead of trying to survive.  Another may hide in a building and take no actions because the pizza they ordered just arrived.  We should try to find and remove these anomalies from our training set to get better results.  But first we should scale our data to speed up our algorithm later."
   ]
  },
  {
   "cell_type": "code",
   "execution_count": 11,
   "metadata": {},
   "outputs": [
    {
     "name": "stdout",
     "output_type": "stream",
     "text": [
      "(6225249, 21)\n"
     ]
    },
    {
     "data": {
      "text/html": [
       "<div>\n",
       "<style scoped>\n",
       "    .dataframe tbody tr th:only-of-type {\n",
       "        vertical-align: middle;\n",
       "    }\n",
       "\n",
       "    .dataframe tbody tr th {\n",
       "        vertical-align: top;\n",
       "    }\n",
       "\n",
       "    .dataframe thead th {\n",
       "        text-align: right;\n",
       "    }\n",
       "</style>\n",
       "<table border=\"1\" class=\"dataframe\">\n",
       "  <thead>\n",
       "    <tr style=\"text-align: right;\">\n",
       "      <th></th>\n",
       "      <th>DBNOs</th>\n",
       "      <th>assists</th>\n",
       "      <th>boosts</th>\n",
       "      <th>damageDealt</th>\n",
       "      <th>headshotKills</th>\n",
       "      <th>heals</th>\n",
       "      <th>killPlace</th>\n",
       "      <th>killPoints</th>\n",
       "      <th>killStreaks</th>\n",
       "      <th>kills</th>\n",
       "      <th>longestKill</th>\n",
       "      <th>maxPlace</th>\n",
       "      <th>revives</th>\n",
       "      <th>rideDistance</th>\n",
       "      <th>roadKills</th>\n",
       "      <th>swimDistance</th>\n",
       "      <th>teamKills</th>\n",
       "      <th>vehicleDestroys</th>\n",
       "      <th>walkDistance</th>\n",
       "      <th>weaponsAcquired</th>\n",
       "      <th>winPoints</th>\n",
       "    </tr>\n",
       "  </thead>\n",
       "  <tbody>\n",
       "    <tr>\n",
       "      <th>0</th>\n",
       "      <td>2.0</td>\n",
       "      <td>0.0</td>\n",
       "      <td>5.0</td>\n",
       "      <td>0.846366</td>\n",
       "      <td>0.0</td>\n",
       "      <td>4.0</td>\n",
       "      <td>-0.638298</td>\n",
       "      <td>0.165354</td>\n",
       "      <td>1.0</td>\n",
       "      <td>2.0</td>\n",
       "      <td>4.004905</td>\n",
       "      <td>-0.047619</td>\n",
       "      <td>1.0</td>\n",
       "      <td>591.3</td>\n",
       "      <td>0.0</td>\n",
       "      <td>0.0</td>\n",
       "      <td>0.0</td>\n",
       "      <td>0.0</td>\n",
       "      <td>0.124686</td>\n",
       "      <td>0.333333</td>\n",
       "      <td>-2.210526</td>\n",
       "    </tr>\n",
       "    <tr>\n",
       "      <th>1</th>\n",
       "      <td>1.0</td>\n",
       "      <td>1.0</td>\n",
       "      <td>0.0</td>\n",
       "      <td>-0.265836</td>\n",
       "      <td>1.0</td>\n",
       "      <td>0.0</td>\n",
       "      <td>-0.042553</td>\n",
       "      <td>0.338583</td>\n",
       "      <td>1.0</td>\n",
       "      <td>1.0</td>\n",
       "      <td>0.830779</td>\n",
       "      <td>-0.190476</td>\n",
       "      <td>0.0</td>\n",
       "      <td>0.0</td>\n",
       "      <td>0.0</td>\n",
       "      <td>0.0</td>\n",
       "      <td>0.0</td>\n",
       "      <td>0.0</td>\n",
       "      <td>-0.271110</td>\n",
       "      <td>0.000000</td>\n",
       "      <td>0.578947</td>\n",
       "    </tr>\n",
       "    <tr>\n",
       "      <th>2</th>\n",
       "      <td>1.0</td>\n",
       "      <td>0.0</td>\n",
       "      <td>1.0</td>\n",
       "      <td>0.031671</td>\n",
       "      <td>0.0</td>\n",
       "      <td>2.0</td>\n",
       "      <td>0.148936</td>\n",
       "      <td>2.952756</td>\n",
       "      <td>0.0</td>\n",
       "      <td>0.0</td>\n",
       "      <td>0.000000</td>\n",
       "      <td>-0.095238</td>\n",
       "      <td>1.0</td>\n",
       "      <td>0.0</td>\n",
       "      <td>0.0</td>\n",
       "      <td>0.0</td>\n",
       "      <td>0.0</td>\n",
       "      <td>0.0</td>\n",
       "      <td>1.597038</td>\n",
       "      <td>0.666667</td>\n",
       "      <td>4.368421</td>\n",
       "    </tr>\n",
       "    <tr>\n",
       "      <th>3</th>\n",
       "      <td>0.0</td>\n",
       "      <td>0.0</td>\n",
       "      <td>0.0</td>\n",
       "      <td>0.043077</td>\n",
       "      <td>0.0</td>\n",
       "      <td>0.0</td>\n",
       "      <td>0.829787</td>\n",
       "      <td>0.314961</td>\n",
       "      <td>0.0</td>\n",
       "      <td>0.0</td>\n",
       "      <td>0.000000</td>\n",
       "      <td>3.190476</td>\n",
       "      <td>0.0</td>\n",
       "      <td>0.0</td>\n",
       "      <td>0.0</td>\n",
       "      <td>0.0</td>\n",
       "      <td>0.0</td>\n",
       "      <td>0.0</td>\n",
       "      <td>-0.329697</td>\n",
       "      <td>-0.666667</td>\n",
       "      <td>-0.578947</td>\n",
       "    </tr>\n",
       "    <tr>\n",
       "      <th>4</th>\n",
       "      <td>0.0</td>\n",
       "      <td>0.0</td>\n",
       "      <td>1.0</td>\n",
       "      <td>-0.465570</td>\n",
       "      <td>0.0</td>\n",
       "      <td>1.0</td>\n",
       "      <td>0.234043</td>\n",
       "      <td>0.039370</td>\n",
       "      <td>0.0</td>\n",
       "      <td>0.0</td>\n",
       "      <td>0.000000</td>\n",
       "      <td>0.809524</td>\n",
       "      <td>0.0</td>\n",
       "      <td>0.0</td>\n",
       "      <td>0.0</td>\n",
       "      <td>0.0</td>\n",
       "      <td>0.0</td>\n",
       "      <td>0.0</td>\n",
       "      <td>0.040129</td>\n",
       "      <td>0.333333</td>\n",
       "      <td>-1.315789</td>\n",
       "    </tr>\n",
       "  </tbody>\n",
       "</table>\n",
       "</div>"
      ],
      "text/plain": [
       "   DBNOs  assists  boosts  damageDealt  headshotKills  heals  killPlace  \\\n",
       "0    2.0      0.0     5.0     0.846366            0.0    4.0  -0.638298   \n",
       "1    1.0      1.0     0.0    -0.265836            1.0    0.0  -0.042553   \n",
       "2    1.0      0.0     1.0     0.031671            0.0    2.0   0.148936   \n",
       "3    0.0      0.0     0.0     0.043077            0.0    0.0   0.829787   \n",
       "4    0.0      0.0     1.0    -0.465570            0.0    1.0   0.234043   \n",
       "\n",
       "   killPoints  killStreaks  kills  longestKill  maxPlace  revives  \\\n",
       "0    0.165354          1.0    2.0     4.004905 -0.047619      1.0   \n",
       "1    0.338583          1.0    1.0     0.830779 -0.190476      0.0   \n",
       "2    2.952756          0.0    0.0     0.000000 -0.095238      1.0   \n",
       "3    0.314961          0.0    0.0     0.000000  3.190476      0.0   \n",
       "4    0.039370          0.0    0.0     0.000000  0.809524      0.0   \n",
       "\n",
       "   rideDistance  roadKills  swimDistance  teamKills  vehicleDestroys  \\\n",
       "0         591.3        0.0           0.0        0.0              0.0   \n",
       "1           0.0        0.0           0.0        0.0              0.0   \n",
       "2           0.0        0.0           0.0        0.0              0.0   \n",
       "3           0.0        0.0           0.0        0.0              0.0   \n",
       "4           0.0        0.0           0.0        0.0              0.0   \n",
       "\n",
       "   walkDistance  weaponsAcquired  winPoints  \n",
       "0      0.124686         0.333333  -2.210526  \n",
       "1     -0.271110         0.000000   0.578947  \n",
       "2      1.597038         0.666667   4.368421  \n",
       "3     -0.329697        -0.666667  -0.578947  \n",
       "4      0.040129         0.333333  -1.315789  "
      ]
     },
     "execution_count": 11,
     "metadata": {},
     "output_type": "execute_result"
    }
   ],
   "source": [
    "#List of all columns\n",
    "AllDataColumns = list(AllData.columns.values)\n",
    "\n",
    "#Scale data\n",
    "scaler = RobustScaler().fit(AllData)\n",
    "AllData = scaler.transform(AllData)\n",
    "\n",
    "#Transform back to dataframe\n",
    "AllData = pd.DataFrame(AllData, columns=AllDataColumns)\n",
    "\n",
    "#Double check that data is OK\n",
    "print(AllData.shape)\n",
    "AllData.head()"
   ]
  },
  {
   "cell_type": "markdown",
   "metadata": {},
   "source": [
    "Now we remove anomalies from our training set."
   ]
  },
  {
   "cell_type": "code",
   "execution_count": 12,
   "metadata": {},
   "outputs": [
    {
     "name": "stdout",
     "output_type": "stream",
     "text": [
      "Checkpoint: Finished anomaly finding in TrainingSet subset #1\n",
      "Checkpoint: Finished anomaly finding in TrainingSet subset #2\n",
      "Checkpoint: Finished anomaly finding in TrainingSet subset #3\n",
      "Checkpoint: Finished anomaly finding in TrainingSet subset #4\n",
      "Checkpoint: Finished anomaly finding in TrainingSet subset #5\n",
      "Checkpoint: Finished anomaly finding in TrainingSet subset #6\n",
      "Checkpoint: Finished anomaly finding in TrainingSet subset #7\n",
      "Checkpoint: Finished anomaly finding in TrainingSet subset #8\n",
      "Checkpoint: Removed anomalous rows from TrainingSet\n",
      "Number of Outliers: 653600\n",
      "Number of rows without outliers: 3703736\n",
      "Number of Y values: 3703736\n"
     ]
    }
   ],
   "source": [
    "TrainingSet = AllData[:n_TrainingSet]\n",
    "TestSet = TestSet = AllData[n_TrainingSet:]\n",
    "\n",
    "#Our model will eat up too much memory on my poor laptop if we try to find anomalies on the entire training set at once\n",
    "#So instead we will split the training set into several parts, then sum them together later\n",
    "TrainingSet1,TrainingSet2,TrainingSet3,TrainingSet4,TrianingSet5,TrainingSet6,TrainingSet7,TrainingSet8 = np.vsplit(TrainingSet,8)\n",
    "Y1,Y2,Y3,Y4,Y5,Y6,Y7,Y8 = np.split(Y,8)\n",
    "YList = [Y1,Y2,Y3,Y4,Y5,Y6,Y7,Y8]\n",
    "TrainingSetList = [TrainingSet1,TrainingSet2,TrainingSet3,TrainingSet4,TrianingSet5,TrainingSet6,TrainingSet7,TrainingSet8]\n",
    "Y_NoAnomaliesList = [0,0,0,0,0,0,0,0]\n",
    "\n",
    "#Find anomalies with IsolationForest.  We assume an anomaly rate of .15, which can be adjusted\n",
    "clf = IsolationForest(max_samples = 256, n_estimators = 100, n_jobs = -1, contamination = 0.15)\n",
    "for i in range(0,8):\n",
    "    clf.fit(TrainingSetList[i])\n",
    "    Y_NoAnomaliesList[i] = clf.predict(TrainingSetList[i]) #Predict whether each row is an outlier [1 = good, -1 = outlier]\n",
    "    print(\"Checkpoint: Finished anomaly finding in TrainingSet subset #\" + str(i+1))\n",
    "\n",
    "#Remove anomalous rows from the training set\n",
    "for i in range(0,8):\n",
    "    Y_NoAnomaliesList[i] = pd.DataFrame(Y_NoAnomaliesList[i], columns = ['Top'])\n",
    "    Y_NoAnomaliesList[i][Y_NoAnomaliesList[i]['Top'] == 1].index.values\n",
    "    TrainingSetList[i] = TrainingSetList[i].iloc[Y_NoAnomaliesList[i][Y_NoAnomaliesList[i]['Top'] == 1].index.values]\n",
    "    TrainingSetList[i].reset_index(drop = True, inplace = True)\n",
    "    YList[i] = YList[i].iloc[Y_NoAnomaliesList[i][Y_NoAnomaliesList[i]['Top'] == 1].index.values]\n",
    "    YList[i].reset_index(drop=True,inplace=True)\n",
    "\n",
    "print(\"Checkpoint: Removed anomalous rows from TrainingSet\")    \n",
    "\n",
    "#Recombine into one dataframe\n",
    "TrainingSet = pd.concat([TrainingSetList[0],TrainingSetList[1],TrainingSetList[2],TrainingSetList[3],TrainingSetList[4],TrainingSetList[5],TrainingSetList[6],TrainingSetList[7]])\n",
    "Y_NoAnomalies = pd.concat([Y_NoAnomaliesList[0],Y_NoAnomaliesList[1],Y_NoAnomaliesList[2],Y_NoAnomaliesList[3],Y_NoAnomaliesList[4],Y_NoAnomaliesList[5],Y_NoAnomaliesList[6],Y_NoAnomaliesList[7]])\n",
    "Y = pd.concat([YList[0],YList[1],YList[2],YList[3],YList[4],YList[5],YList[6],YList[7]])\n",
    "\n",
    "#List number of anomalies found, as well as remaining non-anomalous rows\n",
    "print(\"Number of Outliers:\", Y_NoAnomalies[Y_NoAnomalies['Top'] == -1].shape[0])\n",
    "print(\"Number of rows without outliers:\", TrainingSet.shape[0])\n",
    "print(\"Number of Y values:\", Y.shape[0])\n",
    "\n",
    "#Reset our training set size and our dataframe housing all data\n",
    "n_TrainingSet = TrainingSet.shape[0]\n",
    "AllData = pd.concat([TrainingSet, TestSet])"
   ]
  },
  {
   "cell_type": "markdown",
   "metadata": {},
   "source": [
    "Now we reacquire our training and test sets to use in our neural network algorithm."
   ]
  },
  {
   "cell_type": "code",
   "execution_count": 13,
   "metadata": {},
   "outputs": [
    {
     "name": "stdout",
     "output_type": "stream",
     "text": [
      "(5571649, 21)\n",
      "(3703736, 21)\n",
      "(1867913, 21)\n"
     ]
    }
   ],
   "source": [
    "print(AllData.shape)\n",
    "\n",
    "TrainingSet = AllData[:n_TrainingSet]\n",
    "TestSet = AllData[n_TrainingSet:]\n",
    "\n",
    "print(TrainingSet.shape)\n",
    "print(TestSet.shape)"
   ]
  },
  {
   "cell_type": "markdown",
   "metadata": {},
   "source": [
    "Here I borrow a function to plot the loss and val_loss as a function of epoch, live, as the neural network progresses. The code source is linked here: https://gist.github.com/stared/dfb4dfaf6d9a8501cd1cc8b8cb806d2e"
   ]
  },
  {
   "cell_type": "code",
   "execution_count": 14,
   "metadata": {},
   "outputs": [],
   "source": [
    "class PlotLosses(keras.callbacks.Callback):\n",
    "    def on_train_begin(self, logs={}):\n",
    "        self.i = 0\n",
    "        self.x = []\n",
    "        self.losses = []\n",
    "        self.val_losses = []\n",
    "        \n",
    "        self.fig = plt.figure()\n",
    "        \n",
    "        self.logs = []\n",
    "\n",
    "    def on_epoch_end(self, epoch, logs={}):\n",
    "        \n",
    "        self.logs.append(logs)\n",
    "        self.x.append(self.i)\n",
    "        self.losses.append(logs.get('loss'))\n",
    "        self.val_losses.append(logs.get('val_loss'))\n",
    "        self.i += 1\n",
    "        \n",
    "        clear_output(wait=True)\n",
    "        plt.plot(self.x, self.losses, label=\"loss\")\n",
    "        plt.plot(self.x, self.val_losses, label=\"val_loss\")\n",
    "        plt.ylim(0, 1) \n",
    "        plt.legend()\n",
    "        plt.show();\n",
    "        \n",
    "plot_losses = PlotLosses()"
   ]
  },
  {
   "cell_type": "markdown",
   "metadata": {},
   "source": [
    "Now we create our deep neural network model. I separate the training set into a training set and a validation set to measure our progress as the neural network learns. To prevent overfitting I implement dropout on the neural network layers (regularization). Traditional relu activation functions are used.  The Adam optimizer generally is the best performing of the options available (combines the advantageous effects of RMSProp and gradient descent with momentum).\n",
    "\n",
    "We will also utilize a callback to save and update the best found parameters after each epoch.  This way random deviations from the minimum as a result of using mini-batch (rather than just batch) gradient descent will not cause our final model output to be suboptimal."
   ]
  },
  {
   "cell_type": "code",
   "execution_count": 15,
   "metadata": {},
   "outputs": [],
   "source": [
    "X_tr, X_val, y_tr, y_val = train_test_split(TrainingSet, Y, test_size = 0.1)\n",
    "model = Sequential()\n",
    "BatchNormalization()\n",
    "#Dropout instituted in the input layer; this is optional but may improve our final results\n",
    "model.add(keras.layers.Dropout(0.2, input_shape=(len(TrainingSet.columns),))) #How to add dropout to input layer\n",
    "model.add(Dense(1028,activation='relu')) #Input dimensions equal to # of columns in dataframe X\n",
    "#model.add(Dense(1028, input_dim = len(TrainingSet.columns), activation='relu')) #Use this for no dropout on input\n",
    "BatchNormalization()\n",
    "Dropout(0.4) \n",
    "model.add(Dense(1028,activation='relu')) #Input dimensions automatically accounted for in later layers\n",
    "BatchNormalization()\n",
    "Dropout(0.4)\n",
    "#model.add(Dense(1028,activation='relu')) #Optional additional hidden layer to deepen model\n",
    "#BatchNormalization()\n",
    "#Dropout(0.2)\n",
    "model.add(Dense(100,activation='relu'))\n",
    "BatchNormalization()\n",
    "Dropout(0.2)\n",
    "model.add(Dense(50))\n",
    "BatchNormalization()\n",
    "Dropout(0.1)\n",
    "model.add(Dense(1))\n",
    "keras.optimizers.Adam(lr=0.00001) #Adjust the learning rate, default value of 0.001 was too large\n",
    "model.compile(optimizer='Adam',loss='mse',metrics=['accuracy']) #metrics = ['mean_squared_error']\n",
    "#model.compile(optimizer='Adam',loss='mse') #removing/changing metric had no real effect\n",
    "\n",
    "#Also we want to save the best parameters that we obtain during the training:\n",
    "BestWeightsPath = './best_weights.hdf5'\n",
    "SaveBestModel = keras.callbacks.ModelCheckpoint(BestWeightsPath, monitor='val_loss', verbose=1, save_best_only=True, mode='auto')"
   ]
  },
  {
   "cell_type": "markdown",
   "metadata": {},
   "source": [
    "Now we can attempt to use our model to fit the data."
   ]
  },
  {
   "cell_type": "code",
   "execution_count": 16,
   "metadata": {},
   "outputs": [
    {
     "data": {
      "image/png": "[encoded data removed]",
      "text/plain": [
       "<Figure size 432x288 with 1 Axes>"
      ]
     },
     "metadata": {},
     "output_type": "display_data"
    },
    {
     "name": "stdout",
     "output_type": "stream",
     "text": [
      "\n",
      "Epoch 00010: val_loss did not improve from 0.27461\n"
     ]
    },
    {
     "data": {
      "text/plain": [
       "<keras.callbacks.History at 0x25a29b7f2e8>"
      ]
     },
     "execution_count": 16,
     "metadata": {},
     "output_type": "execute_result"
    }
   ],
   "source": [
    "model.fit(X_tr,y_tr,validation_data=(X_val,y_val), epochs=10, batch_size=256, verbose=1, callbacks=[plot_losses, SaveBestModel])"
   ]
  },
  {
   "cell_type": "markdown",
   "metadata": {},
   "source": [
    "Finally we can use our model to fill out the predictions for our test set and write them onto the file 'PUBGSub'. We also remember to undo the logarithmic change to the Sale Price values we implemented earlier."
   ]
  },
  {
   "cell_type": "code",
   "execution_count": 17,
   "metadata": {},
   "outputs": [
    {
     "name": "stdout",
     "output_type": "stream",
     "text": [
      "370374/370374 [==============================] - 32s 87us/step\n",
      "Modifying Y output\n",
      "Undoing ppf transformation\n",
      "Rounding down low values\n",
      "Rounding up high values\n",
      "Submitting to .csv file\n"
     ]
    }
   ],
   "source": [
    "model.load_weights(BestWeightsPath)\n",
    "np.sqrt(model.evaluate(X_val,y_val))\n",
    "preds = model.predict(np.array(TestSet))\n",
    "subm = pd.read_csv(\"data/sample_submission.csv\")\n",
    "subm.iloc[:,1] = np.array(model.predict(np.array(TestSet)))\n",
    "\n",
    "#Undo the changes to Y we made earlier to make fitting better\n",
    "print(\"Modifying Y output\")\n",
    "print(\"Undoing ppf transformation\")\n",
    "subm['winPlacePerc'] = norm.cdf(subm[['winPlacePerc']])\n",
    "print(\"Rounding down low values\")\n",
    "mask = (subm['winPlacePerc'] <= 0.01)\n",
    "subm.loc[mask, 'winPlacePerc'] = 0\n",
    "print(\"Rounding up high values\")\n",
    "mask = (subm['winPlacePerc'] >= .99)\n",
    "subm.loc[mask, 'winPlacePerc'] = 1.0\n",
    "\n",
    "#subm['SalePrice'] = np.expm1(subm[['SalePrice']]) #undo the logarithm transformation we did on y earlier\n",
    "print(\"Submitting to .csv file\")\n",
    "subm.to_csv('PUBGSub2.csv', index=None)"
   ]
  },
  {
   "cell_type": "markdown",
   "metadata": {},
   "source": [
    "Now let's check to see if we get predictions that are similar to the flat distribution for 'winPlacePerc' that we observed in the TrainingSet."
   ]
  },
  {
   "cell_type": "code",
   "execution_count": 18,
   "metadata": {},
   "outputs": [
    {
     "name": "stdout",
     "output_type": "stream",
     "text": [
      "0.4570643700716423\n"
     ]
    },
    {
     "data": {
      "image/png": "[encoded data removed]",
      "text/plain": [
       "<Figure size 432x288 with 1 Axes>"
      ]
     },
     "metadata": {},
     "output_type": "display_data"
    }
   ],
   "source": [
    "Results = pd.read_csv('PUBGSub2.csv')\n",
    "sns.distplot(Results['winPlacePerc'], hist='norm')\n",
    "print(Results['winPlacePerc'].median())\n",
    "print(Results['winPlacePerc'].mean())"
   ]
  }
 ],
 "metadata": {
  "kernelspec": {
   "display_name": "Python 3",
   "language": "python",
   "name": "python3"
  },
  "language_info": {
   "codemirror_mode": {
    "name": "ipython",
    "version": 3
   },
   "file_extension": ".py",
   "mimetype": "text/x-python",
   "name": "python",
   "nbconvert_exporter": "python",
   "pygments_lexer": "ipython3",
   "version": "3.6.4"
  }
 },
 "nbformat": 4,
 "nbformat_minor": 2
}
